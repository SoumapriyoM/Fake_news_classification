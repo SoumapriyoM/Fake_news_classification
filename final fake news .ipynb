{
 "cells": [
  {
   "cell_type": "code",
   "execution_count": 136,
   "id": "2e88f1e2",
   "metadata": {},
   "outputs": [
    {
     "name": "stderr",
     "output_type": "stream",
     "text": [
      "[nltk_data] Downloading package stopwords to C:\\Users\\Soumapriyo\n",
      "[nltk_data]     Mondal\\AppData\\Roaming\\nltk_data...\n",
      "[nltk_data]   Package stopwords is already up-to-date!\n",
      "[nltk_data] Downloading package wordnet to C:\\Users\\Soumapriyo\n",
      "[nltk_data]     Mondal\\AppData\\Roaming\\nltk_data...\n",
      "[nltk_data]   Package wordnet is already up-to-date!\n"
     ]
    }
   ],
   "source": [
    "import pandas as pd\n",
    "import numpy as np\n",
    "import matplotlib.pyplot as plt\n",
    "import seaborn as sns\n",
    "import re\n",
    "import nltk\n",
    "nltk.download('stopwords')\n",
    "nltk.download('wordnet')\n",
    "from nltk.corpus import stopwords\n",
    "from nltk.stem import PorterStemmer, WordNetLemmatizer\n",
    "from sklearn.model_selection import train_test_split\n",
    "from sklearn.feature_extraction.text import TfidfVectorizer\n",
    "from sklearn.feature_extraction.text import TfidfTransformer\n",
    "from sklearn.feature_extraction.text import CountVectorizer\n",
    "from sklearn.metrics import accuracy_score, confusion_matrix, classification_report,f1_score\n",
    "import codecs\n",
    "import csv"
   ]
  },
  {
   "cell_type": "code",
   "execution_count": 137,
   "id": "2c22ada2",
   "metadata": {},
   "outputs": [],
   "source": [
    "from xgboost import XGBClassifier"
   ]
  },
  {
   "cell_type": "code",
   "execution_count": 138,
   "id": "edb939e1",
   "metadata": {},
   "outputs": [],
   "source": [
    "train=pd.read_csv('train.csv')"
   ]
  },
  {
   "cell_type": "code",
   "execution_count": null,
   "id": "15698ad3",
   "metadata": {},
   "outputs": [],
   "source": [
    "train.head()"
   ]
  },
  {
   "cell_type": "code",
   "execution_count": null,
   "id": "3378ea55",
   "metadata": {},
   "outputs": [],
   "source": [
    "print(train.isnull().sum())"
   ]
  },
  {
   "cell_type": "code",
   "execution_count": 139,
   "id": "d26bce07",
   "metadata": {},
   "outputs": [],
   "source": [
    "train =train.dropna(subset=['text'])"
   ]
  },
  {
   "cell_type": "code",
   "execution_count": 140,
   "id": "39072451",
   "metadata": {},
   "outputs": [],
   "source": [
    "train=train.fillna('')\n",
    "train['news']=train['title']+' '+train['author']+' '+train['text']"
   ]
  },
  {
   "cell_type": "code",
   "execution_count": 141,
   "id": "4b50dd77",
   "metadata": {},
   "outputs": [],
   "source": [
    "def preprocess_text(text):\n",
    "    lemmatizer=WordNetLemmatizer()\n",
    "    text = re.sub(r'[^\\w\\s]', '', text)  # Remove punctuation and non-word characters\n",
    "    words = nltk.word_tokenize(text.lower())  # Tokenization and lowercase conversion\n",
    "    stop_words = set(stopwords.words('english'))\n",
    "    stop_words.discard('no')  # Remove 'no' from the set of stopwords\n",
    "    stop_words.discard('not')  # Remove 'not' from the set of stopwords\n",
    "    lemmatizer = WordNetLemmatizer()\n",
    "    words = [lemmatizer.lemmatize(word) for word in words if word not in stop_words]  # Stopwords removal and lemmatization\n",
    "    return ' '.join(words)"
   ]
  },
  {
   "cell_type": "code",
   "execution_count": 143,
   "id": "dc5c9007",
   "metadata": {},
   "outputs": [],
   "source": [
    "train['news'] = train['news'].apply(preprocess_text)"
   ]
  },
  {
   "cell_type": "code",
   "execution_count": 144,
   "id": "e4dc0cf2",
   "metadata": {},
   "outputs": [
    {
     "data": {
      "text/html": [
       "<div>\n",
       "<style scoped>\n",
       "    .dataframe tbody tr th:only-of-type {\n",
       "        vertical-align: middle;\n",
       "    }\n",
       "\n",
       "    .dataframe tbody tr th {\n",
       "        vertical-align: top;\n",
       "    }\n",
       "\n",
       "    .dataframe thead th {\n",
       "        text-align: right;\n",
       "    }\n",
       "</style>\n",
       "<table border=\"1\" class=\"dataframe\">\n",
       "  <thead>\n",
       "    <tr style=\"text-align: right;\">\n",
       "      <th></th>\n",
       "      <th>id</th>\n",
       "      <th>title</th>\n",
       "      <th>author</th>\n",
       "      <th>text</th>\n",
       "      <th>label</th>\n",
       "      <th>news</th>\n",
       "    </tr>\n",
       "  </thead>\n",
       "  <tbody>\n",
       "    <tr>\n",
       "      <th>0</th>\n",
       "      <td>0</td>\n",
       "      <td>House Dem Aide: We Didn’t Even See Comey’s Let...</td>\n",
       "      <td>Darrell Lucus</td>\n",
       "      <td>House Dem Aide: We Didn’t Even See Comey’s Let...</td>\n",
       "      <td>1</td>\n",
       "      <td>house dem aide didnt even see comeys letter ja...</td>\n",
       "    </tr>\n",
       "    <tr>\n",
       "      <th>1</th>\n",
       "      <td>1</td>\n",
       "      <td>FLYNN: Hillary Clinton, Big Woman on Campus - ...</td>\n",
       "      <td>Daniel J. Flynn</td>\n",
       "      <td>Ever get the feeling your life circles the rou...</td>\n",
       "      <td>0</td>\n",
       "      <td>flynn hillary clinton big woman campus breitba...</td>\n",
       "    </tr>\n",
       "    <tr>\n",
       "      <th>2</th>\n",
       "      <td>2</td>\n",
       "      <td>Why the Truth Might Get You Fired</td>\n",
       "      <td>Consortiumnews.com</td>\n",
       "      <td>Why the Truth Might Get You Fired October 29, ...</td>\n",
       "      <td>1</td>\n",
       "      <td>truth might get fired consortiumnewscom truth ...</td>\n",
       "    </tr>\n",
       "    <tr>\n",
       "      <th>3</th>\n",
       "      <td>3</td>\n",
       "      <td>15 Civilians Killed In Single US Airstrike Hav...</td>\n",
       "      <td>Jessica Purkiss</td>\n",
       "      <td>Videos 15 Civilians Killed In Single US Airstr...</td>\n",
       "      <td>1</td>\n",
       "      <td>15 civilian killed single u airstrike identifi...</td>\n",
       "    </tr>\n",
       "    <tr>\n",
       "      <th>4</th>\n",
       "      <td>4</td>\n",
       "      <td>Iranian woman jailed for fictional unpublished...</td>\n",
       "      <td>Howard Portnoy</td>\n",
       "      <td>Print \\nAn Iranian woman has been sentenced to...</td>\n",
       "      <td>1</td>\n",
       "      <td>iranian woman jailed fictional unpublished sto...</td>\n",
       "    </tr>\n",
       "  </tbody>\n",
       "</table>\n",
       "</div>"
      ],
      "text/plain": [
       "   id                                              title              author  \\\n",
       "0   0  House Dem Aide: We Didn’t Even See Comey’s Let...       Darrell Lucus   \n",
       "1   1  FLYNN: Hillary Clinton, Big Woman on Campus - ...     Daniel J. Flynn   \n",
       "2   2                  Why the Truth Might Get You Fired  Consortiumnews.com   \n",
       "3   3  15 Civilians Killed In Single US Airstrike Hav...     Jessica Purkiss   \n",
       "4   4  Iranian woman jailed for fictional unpublished...      Howard Portnoy   \n",
       "\n",
       "                                                text  label  \\\n",
       "0  House Dem Aide: We Didn’t Even See Comey’s Let...      1   \n",
       "1  Ever get the feeling your life circles the rou...      0   \n",
       "2  Why the Truth Might Get You Fired October 29, ...      1   \n",
       "3  Videos 15 Civilians Killed In Single US Airstr...      1   \n",
       "4  Print \\nAn Iranian woman has been sentenced to...      1   \n",
       "\n",
       "                                                news  \n",
       "0  house dem aide didnt even see comeys letter ja...  \n",
       "1  flynn hillary clinton big woman campus breitba...  \n",
       "2  truth might get fired consortiumnewscom truth ...  \n",
       "3  15 civilian killed single u airstrike identifi...  \n",
       "4  iranian woman jailed fictional unpublished sto...  "
      ]
     },
     "execution_count": 144,
     "metadata": {},
     "output_type": "execute_result"
    }
   ],
   "source": [
    "train.head()"
   ]
  },
  {
   "cell_type": "code",
   "execution_count": 228,
   "id": "6ab4c5af",
   "metadata": {},
   "outputs": [
    {
     "data": {
      "text/plain": [
       "(20761, 6)"
      ]
     },
     "execution_count": 228,
     "metadata": {},
     "output_type": "execute_result"
    }
   ],
   "source": [
    "train.shape"
   ]
  },
  {
   "cell_type": "code",
   "execution_count": 234,
   "id": "5d192be3",
   "metadata": {},
   "outputs": [],
   "source": [
    "X=train['news'].values\n",
    "Y=train['label'].values"
   ]
  },
  {
   "cell_type": "code",
   "execution_count": 237,
   "id": "005db2a0",
   "metadata": {},
   "outputs": [
    {
     "data": {
      "text/plain": [
       "(20761, 6)"
      ]
     },
     "execution_count": 237,
     "metadata": {},
     "output_type": "execute_result"
    }
   ],
   "source": [
    "train.shape"
   ]
  },
  {
   "cell_type": "code",
   "execution_count": 233,
   "id": "81505ccc",
   "metadata": {},
   "outputs": [],
   "source": [
    "train[['news','label']].to_csv(\"New_train.csv\")"
   ]
  },
  {
   "cell_type": "code",
   "execution_count": 147,
   "id": "4d34e56f",
   "metadata": {},
   "outputs": [
    {
     "data": {
      "text/plain": [
       "'jackie mason hollywood would love trump bombed north korea lack trans bathroom exclusive video breitbart daniel nussbaum trying time jackie mason voice reason week exclusive clip breitbart news jackie discus looming threat north korea explains president donald trump could win support hollywood left u need strike first decides bomb whole country behind everybody realize no choice thing jackie say except hollywood left theyll get nauseous trump could win left theyll fall love minute bombed better reason jackie explains like no transgender toilet jackie also say no surprise hollywood celebrity didnt support trump strike syrian airfield month infuriated say might save life doesnt mean anything saved environment climate change theyd happiest people world still jackie say got nothing hollywood celebs theyve got tough life country watch jackies latest clip follow daniel nussbaum twitter dznussbaum'"
      ]
     },
     "execution_count": 147,
     "metadata": {},
     "output_type": "execute_result"
    }
   ],
   "source": [
    "X[5]"
   ]
  },
  {
   "cell_type": "code",
   "execution_count": 148,
   "id": "f22febc9",
   "metadata": {},
   "outputs": [
    {
     "data": {
      "text/plain": [
       "0"
      ]
     },
     "execution_count": 148,
     "metadata": {},
     "output_type": "execute_result"
    }
   ],
   "source": [
    "Y[5]"
   ]
  },
  {
   "cell_type": "code",
   "execution_count": 230,
   "id": "89fcd43e",
   "metadata": {},
   "outputs": [
    {
     "data": {
      "text/plain": [
       "(14532, 163867)"
      ]
     },
     "execution_count": 230,
     "metadata": {},
     "output_type": "execute_result"
    }
   ],
   "source": [
    "tfid_x_train.shape"
   ]
  },
  {
   "cell_type": "code",
   "execution_count": 239,
   "id": "0f5357fc",
   "metadata": {},
   "outputs": [],
   "source": [
    "X_train, X_val, y_train, y_val = train_test_split(X, Y, test_size=0.3, random_state=42)"
   ]
  },
  {
   "cell_type": "code",
   "execution_count": 240,
   "id": "d53ba73f",
   "metadata": {},
   "outputs": [],
   "source": [
    "tfvect = TfidfVectorizer(max_df=0.7)\n",
    "tfid_x_train = tfvect.fit_transform(X_train)\n",
    "tfid_x_test = tfvect.transform(X_val)"
   ]
  },
  {
   "cell_type": "code",
   "execution_count": 241,
   "id": "6421d1c0",
   "metadata": {},
   "outputs": [
    {
     "data": {
      "text/plain": [
       "(14532, 163867)"
      ]
     },
     "execution_count": 241,
     "metadata": {},
     "output_type": "execute_result"
    }
   ],
   "source": [
    "tfid_x_train.shape"
   ]
  },
  {
   "cell_type": "code",
   "execution_count": 152,
   "id": "f9a8731a",
   "metadata": {},
   "outputs": [
    {
     "name": "stdout",
     "output_type": "stream",
     "text": [
      "Validation Accuracy: 0.9797720340343554\n",
      "Test F1 Score: 0.9796774193548388\n",
      "\n"
     ]
    },
    {
     "data": {
      "image/png": "[encoded data removed]",
      "text/plain": [
       "<Figure size 800x600 with 2 Axes>"
      ]
     },
     "metadata": {},
     "output_type": "display_data"
    }
   ],
   "source": [
    "hyperparameters = {\n",
    "    'subsample': 0.8,\n",
    "    'n_estimators': 250,\n",
    "    'min_child_weight': 1,\n",
    "    'max_depth': 7,\n",
    "    'learning_rate': 0.3,\n",
    "    'gamma': 0.1,\n",
    "    'colsample_bytree': 0.8,\n",
    "    'booster': 'gbtree'\n",
    "}\n",
    "\n",
    "# Initialize the XGBoost model\n",
    "model = XGBClassifier(**hyperparameters)\n",
    "\n",
    "# Train the model on the training data\n",
    "model.fit(tfid_x_train, y_train)\n",
    "\n",
    "# Make predictions on the validation data\n",
    "y_pred = model.predict(tfid_x_test)\n",
    "\n",
    "# Calculate accuracy on the validation data\n",
    "accuracy = accuracy_score(y_val, y_pred)\n",
    "test_f1_score = f1_score(y_val, y_pred)\n",
    "print(\"Validation Accuracy:\", accuracy)\n",
    "print(\"Test F1 Score:\", test_f1_score)\n",
    "cm = confusion_matrix(y_val, y_pred)\n",
    "print()\n",
    "plt.figure(figsize=(8, 6))\n",
    "sns.heatmap(cm, annot=True, fmt='d')\n",
    "plt.title(\"XGBClassifier- Confusion Matrix\")\n",
    "plt.xlabel(\"Predicted Label\")\n",
    "plt.ylabel(\"True Label\")\n",
    "plt.show()\n",
    "\n"
   ]
  },
  {
   "cell_type": "markdown",
   "id": "ce72b28e",
   "metadata": {},
   "source": [
    "## Pickle FIle"
   ]
  },
  {
   "cell_type": "code",
   "execution_count": 222,
   "id": "e3477043",
   "metadata": {},
   "outputs": [],
   "source": [
    "import pickle\n",
    "pickle.dump(model,open('model.pkl', 'wb'))"
   ]
  },
  {
   "cell_type": "code",
   "execution_count": 223,
   "id": "4c06c1bc",
   "metadata": {},
   "outputs": [],
   "source": [
    "loaded_model = pickle.load(open('model.pkl', 'rb'))"
   ]
  },
  {
   "cell_type": "code",
   "execution_count": 221,
   "id": "e0c7e3ee",
   "metadata": {},
   "outputs": [],
   "source": [
    "def preprocess_text(text):\n",
    "    lemmatizer=WordNetLemmatizer()\n",
    "    text = re.sub(r'[^\\w\\s]', '', text)  # Remove punctuation and non-word characters\n",
    "    words = nltk.word_tokenize(text.lower())  # Tokenization and lowercase conversion\n",
    "    stop_words = set(stopwords.words('english'))\n",
    "    stop_words.discard('no')  # Remove 'no' from the set of stopwords\n",
    "    stop_words.discard('not')  # Remove 'not' from the set of stopwords\n",
    "    lemmatizer = WordNetLemmatizer()\n",
    "    words = [lemmatizer.lemmatize(word) for word in words if word not in stop_words]  # Stopwords removal and lemmatization\n",
    "    return ' '.join(words)"
   ]
  },
  {
   "cell_type": "code",
   "execution_count": 226,
   "id": "38584280",
   "metadata": {},
   "outputs": [],
   "source": [
    "def fake_news_det1(news):\n",
    "    input_data=preprocess_text(news)\n",
    "    input_data = [input_data]\n",
    "    vectorized_input_data = tfvect.transform(input_data)\n",
    "    prediction = loaded_model.predict(vectorized_input_data)[0]\n",
    "    get_message = lambda x: \"FAKE News\" if x == 0 else \"REAL News\"\n",
    "    print(get_message(prediction))"
   ]
  },
  {
   "cell_type": "code",
   "execution_count": 227,
   "id": "541a5aba",
   "metadata": {},
   "outputs": [
    {
     "name": "stdout",
     "output_type": "stream",
     "text": [
      "REAL News\n"
     ]
    }
   ],
   "source": [
    "fake_news_det1(\"Earth is flat and going to end in 2012\")"
   ]
  },
  {
   "cell_type": "code",
   "execution_count": null,
   "id": "735bfeb2",
   "metadata": {},
   "outputs": [],
   "source": []
  },
  {
   "cell_type": "code",
   "execution_count": null,
   "id": "c1dae2e6",
   "metadata": {},
   "outputs": [],
   "source": []
  },
  {
   "cell_type": "code",
   "execution_count": null,
   "id": "816d10b8",
   "metadata": {},
   "outputs": [],
   "source": []
  },
  {
   "cell_type": "code",
   "execution_count": null,
   "id": "b620c5aa",
   "metadata": {},
   "outputs": [],
   "source": []
  }
 ],
 "metadata": {
  "kernelspec": {
   "display_name": "Python 3 (ipykernel)",
   "language": "python",
   "name": "python3"
  },
  "language_info": {
   "codemirror_mode": {
    "name": "ipython",
    "version": 3
   },
   "file_extension": ".py",
   "mimetype": "text/x-python",
   "name": "python",
   "nbconvert_exporter": "python",
   "pygments_lexer": "ipython3",
   "version": "3.9.13"
  },
  "varInspector": {
   "cols": {
    "lenName": 16,
    "lenType": 16,
    "lenVar": 40
   },
   "kernels_config": {
    "python": {
     "delete_cmd_postfix": "",
     "delete_cmd_prefix": "del ",
     "library": "var_list.py",
     "varRefreshCmd": "print(var_dic_list())"
    },
    "r": {
     "delete_cmd_postfix": ") ",
     "delete_cmd_prefix": "rm(",
     "library": "var_list.r",
     "varRefreshCmd": "cat(var_dic_list()) "
    }
   },
   "types_to_exclude": [
    "module",
    "function",
    "builtin_function_or_method",
    "instance",
    "_Feature"
   ],
   "window_display": false
  }
 },
 "nbformat": 4,
 "nbformat_minor": 5
}
